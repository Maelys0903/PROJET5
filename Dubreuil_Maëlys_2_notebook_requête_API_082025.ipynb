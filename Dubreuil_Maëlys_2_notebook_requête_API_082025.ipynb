{
 "cells": [
  {
   "cell_type": "code",
   "execution_count": 1,
   "id": "ce040363",
   "metadata": {},
   "outputs": [],
   "source": [
    "import requests\n",
    "import pandas as pd\n",
    "import time\n",
    "from tqdm import tqdm"
   ]
  },
  {
   "cell_type": "code",
   "execution_count": 2,
   "id": "3f348465",
   "metadata": {},
   "outputs": [],
   "source": [
    "# URL de base de l'API\n",
    "BASE_URL = \"https://api.stackexchange.com/2.3/questions\"\n",
    "# Spécifier le site StackExchange ciblé\n",
    "SITE = \"stackoverflow\"\n",
    "# Nombre de questions par page\n",
    "PAGESIZE = 50"
   ]
  },
  {
   "cell_type": "code",
   "execution_count": 3,
   "id": "458d266d",
   "metadata": {},
   "outputs": [],
   "source": [
    "API_KEY = None"
   ]
  },
  {
   "cell_type": "code",
   "execution_count": 4,
   "id": "c76e7b88",
   "metadata": {},
   "outputs": [],
   "source": [
    "# Fonction pour récupérer une page de questions\n",
    "\n",
    "def fetch_questions(page=1, pagesize=50, tagged=None):\n",
    "    params = {\n",
    "        \"site\": SITE,\n",
    "        \"pagesize\": pagesize,\n",
    "        \"page\": page,\n",
    "        \"order\": \"desc\",\n",
    "        \"sort\": \"votes\",\n",
    "        \"filter\": \"withbody\",  # Pour inclure le corps des questions\n",
    "    }\n",
    "    if tagged:\n",
    "        params[\"tagged\"] = tagged\n",
    "    if API_KEY:\n",
    "        params[\"key\"] = API_KEY\n",
    "\n",
    "    # Envoie la requête\n",
    "    response = requests.get(BASE_URL, params=params)\n",
    "    response.raise_for_status()\n",
    "    # Retourne les données au format JSON\n",
    "    return response.json()"
   ]
  },
  {
   "cell_type": "code",
   "execution_count": 5,
   "id": "d92bb236",
   "metadata": {},
   "outputs": [],
   "source": [
    "# Fonction pour collecter plusieurs pages de questions\n",
    "\n",
    "def collect_questions(n_pages=10, tagged=None):\n",
    "    all_items = [] # Liste pour stocker toutes les questions\n",
    "\n",
    "    for page in tqdm(range(1, n_pages + 1)):\n",
    "        data = fetch_questions(page=page, tagged=tagged)\n",
    "        items = data.get(\"items\", [])\n",
    "        all_items.extend(items)\n",
    "        time.sleep(1)  # Pour respecter les limites de l’API\n",
    "\n",
    "    # Retourne toutes les questions collectées\n",
    "    return all_items "
   ]
  },
  {
   "cell_type": "code",
   "execution_count": 6,
   "id": "44e3c043",
   "metadata": {},
   "outputs": [],
   "source": [
    "# Fonction pour convertir les données en DataFrame pandas\n",
    "\n",
    "def questions_to_df(questions):\n",
    "    data = []\n",
    "\n",
    "    for q in questions:\n",
    "        data.append({\n",
    "            \"question_id\": q.get(\"question_id\"),\n",
    "            \"title\": q.get(\"title\"),\n",
    "            \"body\": q.get(\"body\"),\n",
    "            \"tags\": q.get(\"tags\"),\n",
    "            \"creation_date\": q.get(\"creation_date\"),\n",
    "            \"score\": q.get(\"score\"),\n",
    "            \"view_count\": q.get(\"view_count\"),\n",
    "            \"answer_count\": q.get(\"answer_count\"),\n",
    "            \"is_answered\": q.get(\"is_answered\")\n",
    "        })\n",
    "\n",
    "    # Créer un DataFrame à partir des données\n",
    "    return pd.DataFrame(data)"
   ]
  },
  {
   "cell_type": "code",
   "execution_count": 7,
   "id": "66636ff4",
   "metadata": {},
   "outputs": [
    {
     "name": "stderr",
     "output_type": "stream",
     "text": [
      "  0%|          | 0/5 [00:00<?, ?it/s]"
     ]
    },
    {
     "name": "stderr",
     "output_type": "stream",
     "text": [
      "100%|██████████| 5/5 [00:07<00:00,  1.43s/it]\n"
     ]
    },
    {
     "data": {
      "text/html": [
       "<div>\n",
       "<style scoped>\n",
       "    .dataframe tbody tr th:only-of-type {\n",
       "        vertical-align: middle;\n",
       "    }\n",
       "\n",
       "    .dataframe tbody tr th {\n",
       "        vertical-align: top;\n",
       "    }\n",
       "\n",
       "    .dataframe thead th {\n",
       "        text-align: right;\n",
       "    }\n",
       "</style>\n",
       "<table border=\"1\" class=\"dataframe\">\n",
       "  <thead>\n",
       "    <tr style=\"text-align: right;\">\n",
       "      <th></th>\n",
       "      <th>question_id</th>\n",
       "      <th>title</th>\n",
       "      <th>body</th>\n",
       "      <th>tags</th>\n",
       "      <th>creation_date</th>\n",
       "      <th>score</th>\n",
       "      <th>view_count</th>\n",
       "      <th>answer_count</th>\n",
       "      <th>is_answered</th>\n",
       "    </tr>\n",
       "  </thead>\n",
       "  <tbody>\n",
       "    <tr>\n",
       "      <th>0</th>\n",
       "      <td>11227809</td>\n",
       "      <td>Why is processing a sorted array faster than p...</td>\n",
       "      <td>&lt;p&gt;In this C++ code, sorting the data (&lt;em&gt;bef...</td>\n",
       "      <td>[java, c++, performance, cpu-architecture, bra...</td>\n",
       "      <td>1340805096</td>\n",
       "      <td>27457</td>\n",
       "      <td>1941240</td>\n",
       "      <td>25</td>\n",
       "      <td>True</td>\n",
       "    </tr>\n",
       "    <tr>\n",
       "      <th>1</th>\n",
       "      <td>927358</td>\n",
       "      <td>How do I undo the most recent local commits in...</td>\n",
       "      <td>&lt;p&gt;I accidentally committed the wrong files to...</td>\n",
       "      <td>[git, version-control, git-commit, undo]</td>\n",
       "      <td>1243620554</td>\n",
       "      <td>27061</td>\n",
       "      <td>16139015</td>\n",
       "      <td>103</td>\n",
       "      <td>True</td>\n",
       "    </tr>\n",
       "    <tr>\n",
       "      <th>2</th>\n",
       "      <td>2003505</td>\n",
       "      <td>How do I delete a Git branch locally and remot...</td>\n",
       "      <td>&lt;p&gt;Failed Attempts to Delete a Remote Branch:&lt;...</td>\n",
       "      <td>[git, version-control, git-branch, git-push, g...</td>\n",
       "      <td>1262653935</td>\n",
       "      <td>20365</td>\n",
       "      <td>12869902</td>\n",
       "      <td>41</td>\n",
       "      <td>True</td>\n",
       "    </tr>\n",
       "    <tr>\n",
       "      <th>3</th>\n",
       "      <td>292357</td>\n",
       "      <td>What is the difference between &amp;#39;git pull&amp;#...</td>\n",
       "      <td>&lt;p&gt;What are the differences between &lt;a href=\"h...</td>\n",
       "      <td>[git, version-control, git-pull, git-fetch]</td>\n",
       "      <td>1226742669</td>\n",
       "      <td>13995</td>\n",
       "      <td>3674790</td>\n",
       "      <td>37</td>\n",
       "      <td>True</td>\n",
       "    </tr>\n",
       "    <tr>\n",
       "      <th>4</th>\n",
       "      <td>231767</td>\n",
       "      <td>What does the &amp;quot;yield&amp;quot; keyword do in ...</td>\n",
       "      <td>&lt;p&gt;What functionality does the &lt;a href=\"https:...</td>\n",
       "      <td>[python, iterator, generator, yield]</td>\n",
       "      <td>1224800471</td>\n",
       "      <td>13086</td>\n",
       "      <td>3450087</td>\n",
       "      <td>52</td>\n",
       "      <td>True</td>\n",
       "    </tr>\n",
       "  </tbody>\n",
       "</table>\n",
       "</div>"
      ],
      "text/plain": [
       "   question_id                                              title  \\\n",
       "0     11227809  Why is processing a sorted array faster than p...   \n",
       "1       927358  How do I undo the most recent local commits in...   \n",
       "2      2003505  How do I delete a Git branch locally and remot...   \n",
       "3       292357  What is the difference between &#39;git pull&#...   \n",
       "4       231767  What does the &quot;yield&quot; keyword do in ...   \n",
       "\n",
       "                                                body  \\\n",
       "0  <p>In this C++ code, sorting the data (<em>bef...   \n",
       "1  <p>I accidentally committed the wrong files to...   \n",
       "2  <p>Failed Attempts to Delete a Remote Branch:<...   \n",
       "3  <p>What are the differences between <a href=\"h...   \n",
       "4  <p>What functionality does the <a href=\"https:...   \n",
       "\n",
       "                                                tags  creation_date  score  \\\n",
       "0  [java, c++, performance, cpu-architecture, bra...     1340805096  27457   \n",
       "1           [git, version-control, git-commit, undo]     1243620554  27061   \n",
       "2  [git, version-control, git-branch, git-push, g...     1262653935  20365   \n",
       "3        [git, version-control, git-pull, git-fetch]     1226742669  13995   \n",
       "4               [python, iterator, generator, yield]     1224800471  13086   \n",
       "\n",
       "   view_count  answer_count  is_answered  \n",
       "0     1941240            25         True  \n",
       "1    16139015           103         True  \n",
       "2    12869902            41         True  \n",
       "3     3674790            37         True  \n",
       "4     3450087            52         True  "
      ]
     },
     "execution_count": 7,
     "metadata": {},
     "output_type": "execute_result"
    }
   ],
   "source": [
    "# Exemple : récupérer 250 questions populaires (5 pages de 50 questions)\n",
    "questions = collect_questions(n_pages=5)\n",
    "df_questions = questions_to_df(questions)\n",
    "\n",
    "# Aperçu du DataFrame\n",
    "df_questions.head()"
   ]
  },
  {
   "cell_type": "code",
   "execution_count": 8,
   "id": "cd4b2641",
   "metadata": {},
   "outputs": [],
   "source": [
    "df_questions.to_csv(\"stack_questions_api.csv\", index=False)"
   ]
  }
 ],
 "metadata": {
  "kernelspec": {
   "display_name": "base",
   "language": "python",
   "name": "python3"
  },
  "language_info": {
   "codemirror_mode": {
    "name": "ipython",
    "version": 3
   },
   "file_extension": ".py",
   "mimetype": "text/x-python",
   "name": "python",
   "nbconvert_exporter": "python",
   "pygments_lexer": "ipython3",
   "version": "3.11.13"
  }
 },
 "nbformat": 4,
 "nbformat_minor": 5
}
