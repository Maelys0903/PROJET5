{
 "cells": [
  {
   "cell_type": "code",
   "execution_count": 2,
   "id": "9b09ff3c",
   "metadata": {},
   "outputs": [],
   "source": [
    "import pandas as pd\n",
    "import numpy as np\n",
    "import re\n",
    "from sentence_transformers import SentenceTransformer\n",
    "from sklearn.linear_model import LogisticRegression\n",
    "from sklearn.multiclass import OneVsRestClassifier\n",
    "from sklearn.preprocessing import MultiLabelBinarizer\n",
    "from sklearn.model_selection import train_test_split\n",
    "from sklearn.metrics import f1_score, classification_report\n",
    "from collections import Counter\n",
    "import matplotlib.pyplot as plt\n",
    "import joblib\n",
    "import mlflow\n",
    "import mlflow.pyfunc\n",
    "from mlflow.models.signature import infer_signature\n",
    "from typing import Any"
   ]
  },
  {
   "cell_type": "code",
   "execution_count": 3,
   "id": "deb3e57e",
   "metadata": {},
   "outputs": [
    {
     "name": "stderr",
     "output_type": "stream",
     "text": [
      "Batches: 100%|██████████| 6/6 [00:00<00:00,  7.05it/s]\n",
      "Batches: 100%|██████████| 2/2 [00:00<00:00, 14.08it/s]\n"
     ]
    },
    {
     "name": "stdout",
     "output_type": "stream",
     "text": [
      "BERT - F1-score (micro): 0.6095238095238096\n",
      "BERT - F1-score (samples): 0.5967736369910284\n"
     ]
    },
    {
     "name": "stderr",
     "output_type": "stream",
     "text": [
      "2025/08/06 15:45:27 INFO mlflow.pyfunc: Validating input example against model signature\n",
      "Downloading artifacts: 100%|██████████| 7/7 [00:00<00:00, 188.29it/s]  \n"
     ]
    },
    {
     "name": "stdout",
     "output_type": "stream",
     "text": [
      "Chemin du modèle loggé : file:///C:/Mes documents/OpenClassRooms/PROJET5/mlruns/101836269437250841/d966978b70a940cbbf29a5ba545860b8/artifacts/model\n",
      "Run ID : d966978b70a940cbbf29a5ba545860b8\n"
     ]
    },
    {
     "name": "stderr",
     "output_type": "stream",
     "text": [
      "2025/08/06 15:45:44 INFO mlflow.pyfunc: Validating input example against model signature\n"
     ]
    },
    {
     "name": "stdout",
     "output_type": "stream",
     "text": [
      "Modèle et binarizer sauvegardés dans le dossier app/\n"
     ]
    }
   ],
   "source": [
    "# Classe wrapper pour MLflow\n",
    "class BertWrapper(mlflow.pyfunc.PythonModel):\n",
    "    def __init__(self, model, mlb):\n",
    "        self.model = model\n",
    "        self.mlb = mlb\n",
    "        self.embedder = SentenceTransformer('all-MiniLM-L6-v2')\n",
    "\n",
    "    def predict(self, context: Any, model_input: pd.DataFrame) -> np.ndarray:\n",
    "        texts = model_input[\"text\"].tolist()\n",
    "        embeddings = self.embedder.encode(texts, show_progress_bar=False)\n",
    "        preds = self.model.predict(embeddings)\n",
    "        return preds  # numpy.ndarray binaire\n",
    "\n",
    "# 1. Chargement des données\n",
    "df = pd.read_csv(\"stack_questions_api.csv\")\n",
    "\n",
    "# 2. Nettoyage\n",
    "def clean_text(text):\n",
    "    text = text.lower()\n",
    "    text = re.sub(r\"[^a-zA-Z0-9\\s]\", \"\", text)\n",
    "    return text\n",
    "\n",
    "df[\"clean_title\"] = df[\"title\"].astype(str).apply(clean_text)\n",
    "df[\"tags\"] = df[\"tags\"].apply(lambda x: x.strip(\"[]\").replace(\"'\", \"\").split(\", \"))\n",
    "\n",
    "# Garder les 50 tags les plus fréquents\n",
    "all_tags = [tag for tags in df[\"tags\"] for tag in tags]\n",
    "top_tags = set([tag for tag, count in Counter(all_tags).most_common(50)])\n",
    "df[\"tags\"] = df[\"tags\"].apply(lambda tags: [tag for tag in tags if tag in top_tags])\n",
    "df = df[df[\"tags\"].map(len) > 0]\n",
    "\n",
    "# 3. Features et labels\n",
    "X = df[\"clean_title\"].tolist()\n",
    "mlb = MultiLabelBinarizer()\n",
    "y = mlb.fit_transform(df[\"tags\"])\n",
    "\n",
    "# 4. Split\n",
    "X_train_raw, X_test_raw, y_train, y_test = train_test_split(X, y, test_size=0.2, random_state=42)\n",
    "\n",
    "# 5. Embedding avec BERT\n",
    "model_embedder = SentenceTransformer('all-MiniLM-L6-v2')\n",
    "X_train = model_embedder.encode(X_train_raw, show_progress_bar=True)\n",
    "X_test = model_embedder.encode(X_test_raw, show_progress_bar=True)\n",
    "\n",
    "# 6. Modèle\n",
    "clf = OneVsRestClassifier(LogisticRegression(max_iter=1000, class_weight='balanced'))\n",
    "clf.fit(X_train, y_train)\n",
    "y_pred = clf.predict(X_test)\n",
    "\n",
    "# 7. Évaluation\n",
    "f1_micro = f1_score(y_test, y_pred, average='micro')\n",
    "f1_samples = f1_score(y_test, y_pred, average='samples')\n",
    "print(\"BERT - F1-score (micro):\", f1_micro)\n",
    "print(\"BERT - F1-score (samples):\", f1_samples)\n",
    "\n",
    "# MLflow tracking\n",
    "mlflow.set_tracking_uri(\"file:///C:/Mes documents/OpenClassRooms/PROJET5/mlruns\")\n",
    "mlflow.set_experiment(\"Tag_Prediction_Improved\")\n",
    "\n",
    "# Construire input_example sous forme DataFrame\n",
    "input_example = pd.DataFrame({\"text\": X_test_raw[:5]})\n",
    "\n",
    "# Inférer la signature\n",
    "signature = infer_signature(input_example)\n",
    "\n",
    "with mlflow.start_run(run_name=\"BERT_LogReg\") as run:\n",
    "    mlflow.log_metric(\"f1_micro\", f1_micro)\n",
    "    mlflow.log_metric(\"f1_samples\", f1_samples)\n",
    "\n",
    "    mlflow.pyfunc.log_model(\n",
    "        name=\"model\",\n",
    "        python_model=BertWrapper(clf, mlb),\n",
    "        signature=signature,\n",
    "        input_example=input_example,\n",
    "        # conda_env=None  # facultatif\n",
    "    )\n",
    "    artifact_uri = mlflow.get_artifact_uri(\"model\")\n",
    "    print(\"Chemin du modèle loggé :\", artifact_uri)\n",
    "\n",
    "    joblib.dump(mlb, \"mlb.pkl\")\n",
    "    mlflow.log_artifact(\"mlb.pkl\")\n",
    "\n",
    "    print(f\"Run ID : {run.info.run_id}\")\n",
    "\n",
    "from pathlib import Path\n",
    "import joblib\n",
    "import mlflow\n",
    "\n",
    "# Dossier de destination pour Render\n",
    "local_model_path = Path(\"app/model_bert\")\n",
    "local_model_path.mkdir(parents=True, exist_ok=True)\n",
    "\n",
    "# Sauvegarde du modèle BERT + LogisticRegression\n",
    "mlflow.pyfunc.save_model(\n",
    "    path=str(local_model_path),\n",
    "    python_model=BertWrapper(clf, mlb),\n",
    "    signature=signature,\n",
    "    input_example=input_example\n",
    ")\n",
    "\n",
    "# Sauvegarde du MultiLabelBinarizer\n",
    "joblib.dump(mlb, \"app/mlb.pkl\")\n",
    "\n",
    "print(\"Modèle et binarizer sauvegardés dans le dossier app/\")"
   ]
  },
  {
   "cell_type": "markdown",
   "id": "a1897c23",
   "metadata": {},
   "source": [
    "Dans le terminal : \n",
    "pytest tests/test_main.py\n",
    "\n",
    "= Cette commande sert à lancer les tests automatiques définis dans le fichier test_main.py situé dans le dossier tests.\n",
    "\n",
    "Résultat obtenu :\n",
    "platform win32 -- Python 3.13.5 = Indique que les tests tournent sous Windows avec Python 3.13.5.\n",
    "\n",
    "pytest-8.4.1, pluggy-1.6.0, plugins: anyio-4.9.0 = Version de pytest et des plugins utilisés.\n",
    "\n",
    "collected 5 items = pytest a trouvé 5 tests dans le fichier test_main.py.\n",
    "\n",
    "tests\\test_main.py ..... = Chaque . correspond à un test qui a réussi. Ici, les 5 tests ont passé avec succès.\n",
    "\n",
    "[100%] = Tous les tests (100%) ont été exécutés.\n",
    "\n",
    "5 passed in 2.52s = Tous les 5 tests sont passés sans erreur en 2.52 secondes."
   ]
  }
 ],
 "metadata": {
  "kernelspec": {
   "display_name": "Python 3",
   "language": "python",
   "name": "python3"
  },
  "language_info": {
   "codemirror_mode": {
    "name": "ipython",
    "version": 3
   },
   "file_extension": ".py",
   "mimetype": "text/x-python",
   "name": "python",
   "nbconvert_exporter": "python",
   "pygments_lexer": "ipython3",
   "version": "3.13.5"
  }
 },
 "nbformat": 4,
 "nbformat_minor": 5
}
